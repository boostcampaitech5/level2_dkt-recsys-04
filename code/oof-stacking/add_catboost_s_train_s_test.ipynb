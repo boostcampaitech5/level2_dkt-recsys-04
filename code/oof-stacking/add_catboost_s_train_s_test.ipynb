{
 "cells": [
  {
   "cell_type": "code",
   "execution_count": 4,
   "metadata": {},
   "outputs": [],
   "source": [
    "import os\n",
    "import pandas as pd"
   ]
  },
  {
   "cell_type": "code",
   "execution_count": 8,
   "metadata": {},
   "outputs": [],
   "source": [
    "r_s_train_path ='/opt/ml/level2_dkt-recsys-04/code/oof-stacking/stacked_output'\n",
    "t_s_train_path = '/opt/ml/level2_dkt-recsys-04/code/boosting/oof_data/0.7_42seed'\n",
    "\n",
    "r_s_train = pd.read_csv(os.path.join(r_s_train_path,'S_train.csv'))\n",
    "t_s_train = pd.read_csv(os.path.join(t_s_train_path,'S_train.csv'))\n",
    "\n",
    "r_s_train['catboost'] = t_s_train['prediction']\n",
    "\n",
    "if not os.path.exists(os.path.join(r_s_train_path,'after')):\n",
    "    os.makedirs(os.path.join(r_s_train_path,'after'))\n",
    "r_s_train.to_csv(os.path.join(r_s_train_path,'after','r_s_train.csv'),sep=',')"
   ]
  },
  {
   "cell_type": "code",
   "execution_count": 9,
   "metadata": {},
   "outputs": [],
   "source": [
    "r_s_test_path ='/opt/ml/level2_dkt-recsys-04/code/oof-stacking/stacked_output'\n",
    "t_s_test_path = '/opt/ml/level2_dkt-recsys-04/code/boosting/oof_data/0.7_42seed'\n",
    "\n",
    "r_s_test = pd.read_csv(os.path.join(r_s_test_path,'S_test.csv'))\n",
    "t_s_test = pd.read_csv(os.path.join(t_s_test_path,'S_test.csv'))\n",
    "\n",
    "r_s_test['catboost'] = t_s_test['prediction']\n",
    "\n",
    "if not os.path.exists(os.path.join(r_s_test_path,'after')):\n",
    "    os.makedirs(os.path.join(r_s_test_path,'after'))\n",
    "\n",
    "r_s_test.to_csv(os.path.join(r_s_test_path,'after','r_s_test.csv'),sep=',')"
   ]
  }
 ],
 "metadata": {
  "kernelspec": {
   "display_name": ".venv",
   "language": "python",
   "name": "python3"
  },
  "language_info": {
   "codemirror_mode": {
    "name": "ipython",
    "version": 3
   },
   "file_extension": ".py",
   "mimetype": "text/x-python",
   "name": "python",
   "nbconvert_exporter": "python",
   "pygments_lexer": "ipython3",
   "version": "3.10.0"
  },
  "orig_nbformat": 4
 },
 "nbformat": 4,
 "nbformat_minor": 2
}
